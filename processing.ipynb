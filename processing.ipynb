{
 "cells": [
  {
   "cell_type": "code",
   "execution_count": 65,
   "metadata": {},
   "outputs": [],
   "source": [
    "import json\n",
    "import pandas as pd"
   ]
  },
  {
   "cell_type": "code",
   "execution_count": 66,
   "metadata": {},
   "outputs": [],
   "source": [
    "dataset = None\n",
    "with open(\"sample.json\", \"r\") as read_content: \n",
    "    dataset = (json.load(read_content))"
   ]
  },
  {
   "cell_type": "code",
   "execution_count": 67,
   "metadata": {},
   "outputs": [
    {
     "name": "stdout",
     "output_type": "stream",
     "text": [
      "dict_keys(['FL', 'DV'])\n"
     ]
    }
   ],
   "source": [
    "print(dataset.keys())"
   ]
  },
  {
   "cell_type": "code",
   "execution_count": 71,
   "metadata": {},
   "outputs": [
    {
     "name": "stdout",
     "output_type": "stream",
     "text": [
      "0\n"
     ]
    },
    {
     "data": {
      "text/html": [
       "<div>\n",
       "<style scoped>\n",
       "    .dataframe tbody tr th:only-of-type {\n",
       "        vertical-align: middle;\n",
       "    }\n",
       "\n",
       "    .dataframe tbody tr th {\n",
       "        vertical-align: top;\n",
       "    }\n",
       "\n",
       "    .dataframe thead th {\n",
       "        text-align: right;\n",
       "    }\n",
       "</style>\n",
       "<table border=\"1\" class=\"dataframe\">\n",
       "  <thead>\n",
       "    <tr style=\"text-align: right;\">\n",
       "      <th></th>\n",
       "    </tr>\n",
       "  </thead>\n",
       "  <tbody>\n",
       "  </tbody>\n",
       "</table>\n",
       "</div>"
      ],
      "text/plain": [
       "Empty DataFrame\n",
       "Columns: []\n",
       "Index: []"
      ]
     },
     "execution_count": 71,
     "metadata": {},
     "output_type": "execute_result"
    }
   ],
   "source": [
    "fl_data = dataset[\"FL\"]\n",
    "processed = []\n",
    "\n",
    "def make_entry(case_id, petitioner_rep, respondent_rep, restraining_order_terms):\n",
    "    return {\n",
    "        \"case_id\": case_id,\n",
    "        \"petitioner_rep\": petitioner_rep, \n",
    "        \"respondent_rep\": respondent_rep,\n",
    "        \"restraining_order_terms\": restraining_order_terms,\n",
    "        }\n",
    "\n",
    "restraining_order_terms = [\"RESTRAINING\",\"ORDER\",\"ROAH\",\"DV-130\"]\n",
    "\n",
    "def count_occurences(haystack, needle):\n",
    "    try:\n",
    "        return haystack.index(needle)\n",
    "    except:\n",
    "        return 0\n",
    "    \n",
    "for idx,case in enumerate(fl_data):\n",
    "    print(idx)\n",
    "    case_id = f\"FL_{case}\"\n",
    "    case_object = fl_data[case]\n",
    "    petitioners = []\n",
    "    respondents = []\n",
    "    for party in case_object[\"event\"][\"data\"][\"caseParties\"]:\n",
    "        if party[\"type\"] == \"Petitioner\":\n",
    "            petitioners.append(party)\n",
    "        if party[\"type\"] == \"Respondent\":\n",
    "            respondents.append(party)\n",
    "    petitioners.sort(key=lambda x: len(x[\"fullName\"]), reverse=True)\n",
    "    respondents.sort(key=lambda x: len(x[\"fullName\"]), reverse=True)\n",
    "    if len(petitioners) == 0 or len(respondents) == 0:\n",
    "        continue\n",
    "    petitioner_full_name = petitioners[0][\"fullName\"]\n",
    "    respondent_full_name = respondents[0][\"fullName\"]\n",
    "    attornies = {}\n",
    "    for attorney in case_object[\"event\"][\"data\"]['caseAttornies']:\n",
    "        representing = attorney[\"representing\"]\n",
    "        attornies[representing] = attorney\n",
    "    occured = 0\n",
    "    for event in case_object[\"event\"][\"data\"][\"caseEvents\"]:\n",
    "        comm = event[\"comment\"]\n",
    "        comm = comm if comm is not None else \"\"\n",
    "        comm = comm.upper()\n",
    "        occurences = [count_occurences(comm, term.upper()) for term in restraining_order_terms]\n",
    "        occured += (sum(occurences) != 0)\n",
    "    respondent_attorney = respondent_full_name in attornies\n",
    "    petitioner_attorney = petitioner_full_name in attornies\n",
    "\n",
    "    break\n",
    "    processed.append(make_entry(case_id,petitioner_attorney,respondent_attorney,0,0))\n",
    "pd.DataFrame(processed)"
   ]
  },
  {
   "cell_type": "code",
   "execution_count": 86,
   "metadata": {},
   "outputs": [
    {
     "name": "stdout",
     "output_type": "stream",
     "text": [
      "False\n",
      "False\n",
      "False\n",
      "False\n",
      "False\n",
      "False\n",
      "False\n",
      "False\n",
      "False\n",
      "False\n",
      "False\n",
      "False\n",
      "False\n",
      "False\n",
      "False\n",
      "False\n"
     ]
    }
   ],
   "source": [
    "\n",
    "\n",
    "\n"
   ]
  },
  {
   "cell_type": "code",
   "execution_count": null,
   "metadata": {},
   "outputs": [],
   "source": []
  }
 ],
 "metadata": {
  "kernelspec": {
   "display_name": "ollama_lang_chrome_test",
   "language": "python",
   "name": "python3"
  },
  "language_info": {
   "codemirror_mode": {
    "name": "ipython",
    "version": 3
   },
   "file_extension": ".py",
   "mimetype": "text/x-python",
   "name": "python",
   "nbconvert_exporter": "python",
   "pygments_lexer": "ipython3",
   "version": "3.10.13"
  }
 },
 "nbformat": 4,
 "nbformat_minor": 2
}
