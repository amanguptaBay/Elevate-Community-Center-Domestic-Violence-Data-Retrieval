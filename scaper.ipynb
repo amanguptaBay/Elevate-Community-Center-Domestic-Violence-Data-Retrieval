{
 "cells": [
  {
   "cell_type": "code",
   "execution_count": 2,
   "metadata": {},
   "outputs": [],
   "source": [
    "import requests\n",
    "def validate_case_number(case_number: int, case_type: str):\n",
    "    assert case_type in set([\"DV\",\"FL\"])\n",
    "    formatted_number = '{:06d}'.format(case_number)\n",
    "    headers = {\n",
    "        'Accept': 'application/json, text/plain, */*',\n",
    "        'Sec-Fetch-Site': 'same-origin',\n",
    "        'Cookie': 'session-id=b297b275-1b8c-4e92-baa9-9f0af94b917c; _ga_8XNDN1BPF1=GS1.2.1711815544.1.1.1711816652.0.0.0; _ga=GA1.2.246151762.1711815543; _gid=GA1.2.335724545.1711815543; utma=215336085.246151762.1711815543.1711815578.1711815578.1; utmc=215336085; __utmz=215336085.1711815578.1.1.utmcsr=google|utmccn=(organic)|utmcmd=organic|utmctr=(not provided)',\n",
    "        'Sec-Fetch-Dest': 'empty',\n",
    "        'Accept-Language': 'en-US,en;q=0.9',\n",
    "        'Sec-Fetch-Mode': 'cors',\n",
    "        'Host': 'traffic.scscourt.org',\n",
    "        'User-Agent': 'Mozilla/5.0 (Macintosh; Intel Mac OS X 10_15_7) AppleWebKit/605.1.15 (KHTML, like Gecko) Version/17.1 Safari/605.1.15',\n",
    "        'Referer': 'https://traffic.scscourt.org/search',\n",
    "        'Accept-Encoding': 'gzip, deflate, br',\n",
    "        'Connection': 'keep-alive',\n",
    "    }\n",
    "\n",
    "    response = requests.get(f'https://traffic.scscourt.org/api/case/validate/23{case_type}{formatted_number}', headers=headers)\n",
    "\n",
    "    return response.text\n"
   ]
  },
  {
   "cell_type": "code",
   "execution_count": 36,
   "metadata": {},
   "outputs": [
    {
     "data": {
      "text/plain": [
       "'{\\r\\n  \"data\": [\\r\\n    {\\r\\n      \"caseParties\": [],\\r\\n      \"caseAttornies\": [],\\r\\n      \"caseEvents\": [],\\r\\n      \"caseHearings\": [],\\r\\n      \"caseOtherDocuments\": [],\\r\\n      \"caseCharges\": [],\\r\\n      \"caseFinancials\": [],\\r\\n      \"caseFinancialTransactions\": [],\\r\\n      \"caseArrestInfomation\": [],\\r\\n      \"casePartyDemographics\": {\\r\\n        \"race\": null,\\r\\n        \"sex\": null,\\r\\n        \"dateOfBirth\": null,\\r\\n        \"height\": null,\\r\\n        \"weight\": null,\\r\\n        \"hairColor\": null,\\r\\n        \"eyeColor\": null\\r\\n      },\\r\\n      \"casePartyAddress\": {\\r\\n        \"streetName\": null,\\r\\n        \"city\": null,\\r\\n        \"state\": null,\\r\\n        \"zip\": null\\r\\n      },\\r\\n      \"casePartyIdentification\": [],\\r\\n      \"caseDocuments\": [],\\r\\n      \"minuteOrders\": [],\\r\\n      \"caseFlags\": [],\\r\\n      \"partyInJailFlags\": [],\\r\\n      \"caseBonds\": [],\\r\\n      \"caseWarrants\": [],\\r\\n      \"caseCrossReferenceNumbers\": [],\\r\\n      \"relatedCases\": [],\\r\\n      \"id\": \"5218884\",\\r\\n      \"caseNumber\": \"23FL004253\",\\r\\n      \"style\": \"Lisa  Tam vs Julio  Colucci\",\\r\\n      \"caseCategory\": 2,\\r\\n      \"type\": \"Other Family Law Petitions and Complaints\",\\r\\n      \"typeId\": \"FL130\",\\r\\n      \"fileDate\": \"12/20/2023\",\\r\\n      \"securityGroup\": null,\\r\\n      \"status\": \"Active\",\\r\\n      \"courtLocation\": \"Family\",\\r\\n      \"caseSubType\": null,\\r\\n      \"nodeId\": 21328,\\r\\n      \"permission\": 0,\\r\\n      \"isSecuredAccess\": false,\\r\\n      \"isCriminal\": false\\r\\n    }\\r\\n  ],\\r\\n  \"result\": 0,\\r\\n  \"created\": \"2024-03-30T18:49:41.032813Z\",\\r\\n  \"message\": \"Case number 23FL004253 was found\"\\r\\n}'"
      ]
     },
     "execution_count": 36,
     "metadata": {},
     "output_type": "execute_result"
    }
   ],
   "source": [
    "validate_case_number(4253,\"FL\")"
   ]
  },
  {
   "cell_type": "code",
   "execution_count": null,
   "metadata": {},
   "outputs": [],
   "source": [
    "FL_MAX = 4253"
   ]
  }
 ],
 "metadata": {
  "kernelspec": {
   "display_name": "ollama_lang_chrome_test",
   "language": "python",
   "name": "python3"
  },
  "language_info": {
   "codemirror_mode": {
    "name": "ipython",
    "version": 3
   },
   "file_extension": ".py",
   "mimetype": "text/x-python",
   "name": "python",
   "nbconvert_exporter": "python",
   "pygments_lexer": "ipython3",
   "version": "3.10.13"
  }
 },
 "nbformat": 4,
 "nbformat_minor": 2
}
