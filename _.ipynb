{
 "cells": [
  {
   "cell_type": "code",
   "execution_count": null,
   "metadata": {},
   "outputs": [],
   "source": [
    "import requests\n",
    "\n",
    "headers = {\n",
    "    'Accept': 'application/json, text/plain, */*',\n",
    "    'Sec-Fetch-Site': 'same-origin',\n",
    "    'Cookie': 'session-id=b297b275-1b8c-4e92-baa9-9f0af94b917c; _ga_8XNDN1BPF1=GS1.2.1711815544.1.1.1711816652.0.0.0; _ga=GA1.2.246151762.1711815543; _gid=GA1.2.335724545.1711815543; utma=215336085.246151762.1711815543.1711815578.1711815578.1; utmc=215336085; __utmz=215336085.1711815578.1.1.utmcsr=google|utmccn=(organic)|utmcmd=organic|utmctr=(not provided)',\n",
    "    'Sec-Fetch-Dest': 'empty',\n",
    "    'Accept-Language': 'en-US,en;q=0.9',\n",
    "    'Sec-Fetch-Mode': 'cors',\n",
    "    'Host': 'traffic.scscourt.org',\n",
    "    'User-Agent': 'Mozilla/5.0 (Macintosh; Intel Mac OS X 10_15_7) AppleWebKit/605.1.15 (KHTML, like Gecko) Version/17.1 Safari/605.1.15',\n",
    "    'Referer': 'https://traffic.scscourt.org/search',\n",
    "    'Accept-Encoding': 'gzip, deflate, br',\n",
    "    'Connection': 'keep-alive',\n",
    "}\n",
    "\n",
    "response = requests.get('https://traffic.scscourt.org/api/case/validate/23FL000001', headers=headers)\n",
    "\n",
    "print(response.text)\n"
   ]
  },
  {
   "cell_type": "code",
   "execution_count": null,
   "metadata": {},
   "outputs": [],
   "source": []
  }
 ],
 "metadata": {
  "kernelspec": {
   "display_name": "ollama_lang_chrome_test",
   "language": "python",
   "name": "python3"
  },
  "language_info": {
   "name": "python",
   "version": "3.10.13"
  }
 },
 "nbformat": 4,
 "nbformat_minor": 2
}
